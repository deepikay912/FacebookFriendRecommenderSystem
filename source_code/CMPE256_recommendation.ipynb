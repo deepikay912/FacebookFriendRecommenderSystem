{
  "nbformat": 4,
  "nbformat_minor": 0,
  "metadata": {
    "colab": {
      "name": "CMPE256_fb_friend.ipynb",
      "version": "0.3.2",
      "provenance": []
    },
    "kernelspec": {
      "name": "python3",
      "display_name": "Python 3"
    }
  },
  "cells": [
    {
      "cell_type": "code",
      "metadata": {
        "id": "bmQJMc_sp0R2",
        "colab_type": "code",
        "colab": {}
      },
      "source": [
        "import random\n",
        "import networkx as nx\n",
        "import matplotlib.pyplot as plt\n",
        "from operator import itemgetter\n"
      ],
      "execution_count": 0,
      "outputs": []
    },
    {
      "cell_type": "code",
      "metadata": {
        "id": "feyuJLFLqCI_",
        "colab_type": "code",
        "colab": {
          "base_uri": "https://localhost:8080/",
          "height": 224
        },
        "outputId": "b6dfc81d-170f-4e70-df85-286b724b16c9"
      },
      "source": [
        "!apt-get install -y -qq software-properties-common python-software-properties module-init-tools\n",
        "!add-apt-repository -y ppa:alessandro-strada/ppa 2>&1 > /dev/null\n",
        "!apt-get update -qq 2>&1 > /dev/null\n",
        "!apt-get -y install -qq google-drive-ocamlfuse fuse\n",
        "from google.colab import auth\n",
        "auth.authenticate_user()\n",
        "from oauth2client.client import GoogleCredentials\n",
        "creds = GoogleCredentials.get_application_default()\n",
        "import getpass\n",
        "!google-drive-ocamlfuse -headless -id={creds.client_id} -secret={creds.client_secret} < /dev/null 2>&1 | grep URL\n",
        "vcode = getpass.getpass()\n",
        "!echo {vcode} | google-drive-ocamlfuse -headless -id={creds.client_id} -secret={creds.client_secret}"
      ],
      "execution_count": 2,
      "outputs": [
        {
          "output_type": "stream",
          "text": [
            "E: Package 'python-software-properties' has no installation candidate\n",
            "Selecting previously unselected package google-drive-ocamlfuse.\n",
            "(Reading database ... 131289 files and directories currently installed.)\n",
            "Preparing to unpack .../google-drive-ocamlfuse_0.7.6-0ubuntu1~ubuntu18.04.1_amd64.deb ...\n",
            "Unpacking google-drive-ocamlfuse (0.7.6-0ubuntu1~ubuntu18.04.1) ...\n",
            "Setting up google-drive-ocamlfuse (0.7.6-0ubuntu1~ubuntu18.04.1) ...\n",
            "Processing triggers for man-db (2.8.3-2ubuntu0.1) ...\n",
            "Please, open the following URL in a web browser: https://accounts.google.com/o/oauth2/auth?client_id=32555940559.apps.googleusercontent.com&redirect_uri=urn%3Aietf%3Awg%3Aoauth%3A2.0%3Aoob&scope=https%3A%2F%2Fwww.googleapis.com%2Fauth%2Fdrive&response_type=code&access_type=offline&approval_prompt=force\n",
            "··········\n",
            "Please, open the following URL in a web browser: https://accounts.google.com/o/oauth2/auth?client_id=32555940559.apps.googleusercontent.com&redirect_uri=urn%3Aietf%3Awg%3Aoauth%3A2.0%3Aoob&scope=https%3A%2F%2Fwww.googleapis.com%2Fauth%2Fdrive&response_type=code&access_type=offline&approval_prompt=force\n",
            "Please enter the verification code: Access token retrieved correctly.\n"
          ],
          "name": "stdout"
        }
      ]
    },
    {
      "cell_type": "code",
      "metadata": {
        "id": "QvdC4uwUrc7m",
        "colab_type": "code",
        "colab": {}
      },
      "source": [
        "!mkdir -p drive\n",
        "!google-drive-ocamlfuse drive"
      ],
      "execution_count": 0,
      "outputs": []
    },
    {
      "cell_type": "code",
      "metadata": {
        "id": "Ct5slsh5rtpr",
        "colab_type": "code",
        "colab": {
          "base_uri": "https://localhost:8080/",
          "height": 901
        },
        "outputId": "809309a0-fa02-4175-e8ca-327959a4fbce"
      },
      "source": [
        "!ls drive"
      ],
      "execution_count": 4,
      "outputs": [
        {
          "output_type": "stream",
          "text": [
            "'273-Project(Team+4+)-API-Documentation (1).desktop'\n",
            "'273-Project(Team+4+)-API-Documentation (1).docx'\n",
            "'Book report.desktop'\n",
            "'Class notes.desktop'\n",
            "'cmpe220 assgn 2.desktop'\n",
            " CMPE256_assignment1_deepika.desktop\n",
            " CMPE256_datasets\n",
            " CMPE256.desktop\n",
            " CMPE256_Individual.desktop\n",
            " CMPE256_Individual_finalReport.desktop\n",
            " CMPE256_IndividualProject_deepika.desktop\n",
            " CMPE256_Team11.desktop\n",
            " CMPE256_Team11_FinalPPT.desktop\n",
            " CMPE256_Team11.pptx\n",
            " cmpe256_team.desktop\n",
            " CMPE272_deepika_doc.desktop\n",
            "'CMPE272-NLG & NLQ_deepika.desktop'\n",
            " CMPE273-Lab3-012443886.desktop\n",
            "'CMPE 273_Refresher Assignment.desktop'\n",
            "'Colab Notebooks'\n",
            " data\n",
            " DeepikaChowdarySDEResume_2018_ms.pdf\n",
            " Deepika_Yannamani_oncampus.pdf\n",
            " Deepika_Yannamani_Resume.desktop\n",
            "'Deepika_Yannamani_Resume.desktop (7672d471)'\n",
            "'Deepika_Yannamani_Resume.desktop (8109caf1)'\n",
            "'Deepika_Yannamani_Resume.desktop (937bfe53)'\n",
            " Deepika_Yannamani_Resume.pdf\n",
            " Facebook_Dataset.txt\n",
            "'Getting started'\n",
            " hourly_time_sheet.desktop\n",
            " hourly_time_sheet.xls\n",
            " Kouda_Lab2_Report.desktop\n",
            " Kouda_Lab2_Report.docx\n",
            "'Linked in.desktop'\n",
            " Profile\n",
            " Project\n",
            "'Project Plan and Implementation .desktop'\n",
            "'Project Wireframes.desktop'\n",
            " Raviteja_kommalapati_Resume_oncampus.desktop\n",
            " Raviteja_kommalapati_Resume_oncampus.pdf\n",
            " SKM_658e19071811030.pdf\n",
            "'Untitled document.desktop'\n",
            "'Untitled document.desktop (06a24258)'\n",
            "'Untitled document.desktop (3dcb80dd)'\n",
            "'Untitled document.desktop (8b161ec7)'\n",
            "'Untitled presentation.desktop'\n",
            "'Untitled presentation.desktop (a2636b54)'\n",
            "'Untitled spreadsheet.desktop'\n",
            "'Untitled spreadsheet.desktop (1df1dd11)'\n",
            "'UPPY AWARD spring 2019.desktop'\n",
            "'UPPY AWARD spring 2019.docx'\n"
          ],
          "name": "stdout"
        }
      ]
    },
    {
      "cell_type": "code",
      "metadata": {
        "id": "TkKCf6GYry_s",
        "colab_type": "code",
        "colab": {}
      },
      "source": [
        "G2 = nx.read_edgelist('drive/Facebook_Dataset.txt', create_using = nx.Graph(), nodetype = int)"
      ],
      "execution_count": 0,
      "outputs": []
    },
    {
      "cell_type": "code",
      "metadata": {
        "id": "xMNVTidar8oq",
        "colab_type": "code",
        "colab": {}
      },
      "source": [
        "def draw():\n",
        "    nx.draw(G)\n",
        "    plt.savefig(\"facebook.pdf\")\n",
        "    plt.show()\n",
        "\n",
        "\n",
        "def friends(graph, user):\n",
        "    return set(graph.neighbors(user))\n",
        "\n",
        "\n",
        "def friends_of_friends(graph, user):\n",
        "    x=[]\n",
        "    for each in graph.neighbors(user):\n",
        "        for item in graph.neighbors(each):\n",
        "            x.append(item)\n",
        "    return set(x)\n",
        "   \n",
        "def common_friends(graph, user1, user2):\n",
        "    x1 = friends(graph, user1)\n",
        "    x2 = friends(graph, user2)\n",
        "    return set(x1&x2)\n",
        "    \n",
        "\n",
        "def number_of_common_friends_map(graph, user):\n",
        "    new_dict = dict()\n",
        "    for each in graph.nodes():\n",
        "        if(each!=user):\n",
        "            if(each not in graph.neighbors(user)):\n",
        "                new_dict[each] = len(common_friends(graph,each,user))\n",
        "    return new_dict\n",
        "\n",
        "\n",
        "def number_map_to_sorted_list(map):\n",
        "    map = sorted(map.items(), key = itemgetter(1), reverse=True)\n",
        "    return map\n",
        "\n",
        "\n",
        "def recommend_by_number_of_common_friends(graph, user):\n",
        "  \n",
        "    diction = dict()\n",
        "    diction = number_of_common_friends_map(graph,user)\n",
        "    diction = number_map_to_sorted_list(diction)\n",
        "    recommendations = []\n",
        "    for i in range(0,10):\n",
        "        recommendations.append(diction[i])\n",
        "    return recommendations\n",
        "\n",
        "\n",
        "def calc_score(graph, user, each):\n",
        "    score = 0\n",
        "    common = common_friends(graph, user, each)\n",
        "    for item in common:\n",
        "        score = score + 1/(len(friends(graph, item)))\n",
        "    return score\n",
        "    \n",
        "    \n",
        "def influence_map(graph, user):\n",
        "    influence_scores = dict()\n",
        "    for each in graph.nodes():\n",
        "        if(each != user):\n",
        "            score = calc_score(graph, user, each)\n",
        "            influence_scores[each] = score\n",
        "    return influence_scores\n",
        "    \n",
        "\n",
        "def recommend_by_influence(graph, user):\n",
        "    recommendations = []\n",
        "    d=influence_map(graph,user)\n",
        "    d = sorted(d.items(), key = itemgetter(1), reverse=True)\n",
        "    for i in range(0,10):\n",
        "        recommendations.append(d[i])\n",
        "    return recommendations\n",
        "\n",
        "\n",
        "def return_pure_list(recommendations):\n",
        "    pure_list = []\n",
        "    for each in recommendations:\n",
        "        pure_list.append(each[0])\n",
        "    return pure_list\n",
        "\n",
        "\n",
        "\n",
        "def compute_avg_rank(G):\n",
        "    avg=0\n",
        "    AVG=0\n",
        "    l=[]\n",
        "    for i in range(0,1000):\n",
        "        f1 = random.choice(G.nodes())\n",
        "        f2 = random.choice(G.nodes())\n",
        "        if(f1!=f2):\n",
        "            if(G.has_edge(f1,f2)):\n",
        "                G.remove_edge(f1,f2)\n",
        "                l1 = recommend_by_number_of_common_friends(G,f1)\n",
        "                l2 = recommend_by_number_of_common_friends(G,f2)\n",
        "                L1 = recommend_by_influence(G,f1)\n",
        "                L2 = recommend_by_influence(G,f2)\n",
        "                if f1 in return_pure_list(l2) and f2 in return_pure_list(l1):\n",
        "                    r1 = return_pure_list(l2).index(f1)\n",
        "                    r2 = return_pure_list(l1).index(f2)\n",
        "                    avg=avg+(r1+r2)/2\n",
        "                if f1 in return_pure_list(L2) and f2 in return_pure_list(L1):\n",
        "                    R1 = return_pure_list(L2).index(f1)\n",
        "                    R2 = return_pure_list(L1).index(f2)\n",
        "                    AVG=AVG+(R1+R2)/2\n",
        "        G.add_edge(f1,f2)\n",
        "    l.append(avg)\n",
        "    l.append(AVG)\n",
        "    print(\"Average Rank of Method 1: \")\n",
        "    print(l[0])\n",
        "    print(\"Average rank of Method 2: \")\n",
        "    print(l[1])\n",
        "    return l\n",
        "\n",
        "\n",
        "\n",
        "def same_and_different_recommendations(graph):\n",
        "    res=[]\n",
        "    count_same, count_diff = 0,0\n",
        "    for i in range(0,4039):\n",
        "        l1,l2 = [], []\n",
        "        l1 = return_pure_list(recommend_by_number_of_common_friends(graph, i))\n",
        "        l2 = return_pure_list(recommend_by_influence(graph, i))\n",
        "        if(l1 == l2):\n",
        "            count_same = count_same + 1\n",
        "        else:\n",
        "            count_diff = count_diff +1\n",
        "    res.append(count_same)\n",
        "    res.append(count_diff)\n",
        "    print(\"Number of Same recommendations from both methods: \")\n",
        "    print(res[0])\n",
        "    print(\"Number of different recommendations from both methods: \")\n",
        "    print(res[1])\n",
        "    return res\n",
        " \n",
        "    \n",
        "def most_common(lst):\n",
        "    return max(set(lst), key=lst.count)\n",
        "\n",
        "\n",
        "\n",
        "def predict_lonely_nodes(graph):\n",
        "    res_2=[]\n",
        "    alones=[]\n",
        "    for i in range(0,graph.number_of_nodes()):\n",
        "        l_2 = return_pure_list(recommend_by_influence(graph,i))\n",
        "        res_2.append(l_2[9])\n",
        "    print(\"Lonely Nodes: \")\n",
        "    for i in range(0,10):\n",
        "        lonely = most_common(res_2)\n",
        "        alones.append(lonely)\n",
        "        res_2.remove(lonely)\n",
        "    new_dict = dict()\n",
        "    for i in range(0,10):\n",
        "        new_dict[alones[i]] = nx.clustering(graph, alones[i])\n",
        "    print(new_dict)\n",
        "    return alones\n",
        "    \n",
        "\n",
        "def show(graph, user):\n",
        "    nx.draw_networkx_nodes(graph,pos=nx.spring_layout(graph),\n",
        "                       nodelist=return_pure_list(recommend_by_influence(graph,user)),\n",
        "                       node_color='b',\n",
        "                       node_size=500,\n",
        "                   alpha=0.8)\n",
        "    plt.savefig('x.pdf')\n",
        "    print(\"Recommendation by Method 1: \" )\n",
        "    print(recommend_by_influence(graph, user))\n",
        "    print(\"Recommendation by Method 2: \")\n",
        "    print(recommend_by_number_of_common_friends(graph, user))\n"
      ],
      "execution_count": 0,
      "outputs": []
    },
    {
      "cell_type": "code",
      "metadata": {
        "id": "zfcW06YOsELi",
        "colab_type": "code",
        "colab": {
          "base_uri": "https://localhost:8080/",
          "height": 684
        },
        "outputId": "8ad43aad-331a-43e9-eb3a-dd78ad1f66fe"
      },
      "source": [
        "show(G2,857 )\n",
        "compute_avg_rank(G2)\n",
        "same_and_different_recommendations(G2)\n",
        "predict_lonely_nodes(G2)"
      ],
      "execution_count": 7,
      "outputs": [
        {
          "output_type": "stream",
          "text": [
            "Recommendation by Method 1: \n",
            "[(862, 0.6908911995020903), (698, 0.6863519630887088), (3437, 0.3557297126038576), (865, 0.30637254901960786), (868, 0.30637254901960786), (3495, 0.199994840958673), (3684, 0.19824414067856097), (3797, 0.1945961698623275), (3721, 0.17551686795128826), (3592, 0.16849482023156612)]\n",
            "Recommendation by Method 2: \n",
            "[(3501, 6), (3577, 6), (3633, 6), (3684, 6), (3948, 6), (1085, 5), (3609, 5), (3677, 5), (3721, 5), (3692, 5)]\n"
          ],
          "name": "stdout"
        },
        {
          "output_type": "error",
          "ename": "TypeError",
          "evalue": "ignored",
          "traceback": [
            "\u001b[0;31m---------------------------------------------------------------------------\u001b[0m",
            "\u001b[0;31mTypeError\u001b[0m                                 Traceback (most recent call last)",
            "\u001b[0;32m<ipython-input-7-2376fe99ccd9>\u001b[0m in \u001b[0;36m<module>\u001b[0;34m()\u001b[0m\n\u001b[1;32m      1\u001b[0m \u001b[0mshow\u001b[0m\u001b[0;34m(\u001b[0m\u001b[0mG2\u001b[0m\u001b[0;34m,\u001b[0m\u001b[0;36m857\u001b[0m \u001b[0;34m)\u001b[0m\u001b[0;34m\u001b[0m\u001b[0;34m\u001b[0m\u001b[0m\n\u001b[0;32m----> 2\u001b[0;31m \u001b[0mcompute_avg_rank\u001b[0m\u001b[0;34m(\u001b[0m\u001b[0mG2\u001b[0m\u001b[0;34m)\u001b[0m\u001b[0;34m\u001b[0m\u001b[0;34m\u001b[0m\u001b[0m\n\u001b[0m\u001b[1;32m      3\u001b[0m \u001b[0msame_and_different_recommendations\u001b[0m\u001b[0;34m(\u001b[0m\u001b[0mG2\u001b[0m\u001b[0;34m)\u001b[0m\u001b[0;34m\u001b[0m\u001b[0;34m\u001b[0m\u001b[0m\n\u001b[1;32m      4\u001b[0m \u001b[0mpredict_lonely_nodes\u001b[0m\u001b[0;34m(\u001b[0m\u001b[0mG2\u001b[0m\u001b[0;34m)\u001b[0m\u001b[0;34m\u001b[0m\u001b[0;34m\u001b[0m\u001b[0m\n",
            "\u001b[0;32m<ipython-input-6-df854764cc3b>\u001b[0m in \u001b[0;36mcompute_avg_rank\u001b[0;34m(G)\u001b[0m\n\u001b[1;32m    103\u001b[0m                     \u001b[0mR2\u001b[0m \u001b[0;34m=\u001b[0m \u001b[0mreturn_pure_list\u001b[0m\u001b[0;34m(\u001b[0m\u001b[0mL1\u001b[0m\u001b[0;34m)\u001b[0m\u001b[0;34m.\u001b[0m\u001b[0mindex\u001b[0m\u001b[0;34m(\u001b[0m\u001b[0mf2\u001b[0m\u001b[0;34m)\u001b[0m\u001b[0;34m\u001b[0m\u001b[0;34m\u001b[0m\u001b[0m\n\u001b[1;32m    104\u001b[0m                     \u001b[0mAVG\u001b[0m\u001b[0;34m=\u001b[0m\u001b[0mAVG\u001b[0m\u001b[0;34m+\u001b[0m\u001b[0;34m(\u001b[0m\u001b[0mR1\u001b[0m\u001b[0;34m+\u001b[0m\u001b[0mR2\u001b[0m\u001b[0;34m)\u001b[0m\u001b[0;34m/\u001b[0m\u001b[0;36m2\u001b[0m\u001b[0;34m\u001b[0m\u001b[0;34m\u001b[0m\u001b[0m\n\u001b[0;32m--> 105\u001b[0;31m         \u001b[0mG\u001b[0m\u001b[0;34m.\u001b[0m\u001b[0madd_edge\u001b[0m\u001b[0;34m(\u001b[0m\u001b[0mf1\u001b[0m\u001b[0;34m,\u001b[0m\u001b[0mf2\u001b[0m\u001b[0;34m)\u001b[0m\u001b[0;34m\u001b[0m\u001b[0;34m\u001b[0m\u001b[0m\n\u001b[0m\u001b[1;32m    106\u001b[0m     \u001b[0ml\u001b[0m\u001b[0;34m.\u001b[0m\u001b[0mappend\u001b[0m\u001b[0;34m(\u001b[0m\u001b[0mavg\u001b[0m\u001b[0;34m)\u001b[0m\u001b[0;34m\u001b[0m\u001b[0;34m\u001b[0m\u001b[0m\n\u001b[1;32m    107\u001b[0m     \u001b[0ml\u001b[0m\u001b[0;34m.\u001b[0m\u001b[0mappend\u001b[0m\u001b[0;34m(\u001b[0m\u001b[0mAVG\u001b[0m\u001b[0;34m)\u001b[0m\u001b[0;34m\u001b[0m\u001b[0;34m\u001b[0m\u001b[0m\n",
            "\u001b[0;32m/usr/local/lib/python3.6/dist-packages/networkx/classes/graph.py\u001b[0m in \u001b[0;36madd_edge\u001b[0;34m(self, u_of_edge, v_of_edge, **attr)\u001b[0m\n\u001b[1;32m    908\u001b[0m         \u001b[0mu\u001b[0m\u001b[0;34m,\u001b[0m \u001b[0mv\u001b[0m \u001b[0;34m=\u001b[0m \u001b[0mu_of_edge\u001b[0m\u001b[0;34m,\u001b[0m \u001b[0mv_of_edge\u001b[0m\u001b[0;34m\u001b[0m\u001b[0;34m\u001b[0m\u001b[0m\n\u001b[1;32m    909\u001b[0m         \u001b[0;31m# add nodes\u001b[0m\u001b[0;34m\u001b[0m\u001b[0;34m\u001b[0m\u001b[0;34m\u001b[0m\u001b[0m\n\u001b[0;32m--> 910\u001b[0;31m         \u001b[0;32mif\u001b[0m \u001b[0mu\u001b[0m \u001b[0;32mnot\u001b[0m \u001b[0;32min\u001b[0m \u001b[0mself\u001b[0m\u001b[0;34m.\u001b[0m\u001b[0m_node\u001b[0m\u001b[0;34m:\u001b[0m\u001b[0;34m\u001b[0m\u001b[0;34m\u001b[0m\u001b[0m\n\u001b[0m\u001b[1;32m    911\u001b[0m             \u001b[0mself\u001b[0m\u001b[0;34m.\u001b[0m\u001b[0m_adj\u001b[0m\u001b[0;34m[\u001b[0m\u001b[0mu\u001b[0m\u001b[0;34m]\u001b[0m \u001b[0;34m=\u001b[0m \u001b[0mself\u001b[0m\u001b[0;34m.\u001b[0m\u001b[0madjlist_inner_dict_factory\u001b[0m\u001b[0;34m(\u001b[0m\u001b[0;34m)\u001b[0m\u001b[0;34m\u001b[0m\u001b[0;34m\u001b[0m\u001b[0m\n\u001b[1;32m    912\u001b[0m             \u001b[0mself\u001b[0m\u001b[0;34m.\u001b[0m\u001b[0m_node\u001b[0m\u001b[0;34m[\u001b[0m\u001b[0mu\u001b[0m\u001b[0;34m]\u001b[0m \u001b[0;34m=\u001b[0m \u001b[0mself\u001b[0m\u001b[0;34m.\u001b[0m\u001b[0mnode_attr_dict_factory\u001b[0m\u001b[0;34m(\u001b[0m\u001b[0;34m)\u001b[0m\u001b[0;34m\u001b[0m\u001b[0;34m\u001b[0m\u001b[0m\n",
            "\u001b[0;31mTypeError\u001b[0m: unhashable type: 'dict'"
          ]
        },
        {
          "output_type": "display_data",
          "data": {
            "image/png": "[encoded data removed]",
            "text/plain": [
              "<Figure size 432x288 with 1 Axes>"
            ]
          },
          "metadata": {
            "tags": []
          }
        }
      ]
    },
    {
      "cell_type": "code",
      "metadata": {
        "id": "cZn0TUryv6xL",
        "colab_type": "code",
        "colab": {}
      },
      "source": [
        "same_and_different_recommendations(G2)"
      ],
      "execution_count": 0,
      "outputs": []
    }
  ]
}